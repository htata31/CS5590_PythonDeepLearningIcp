{
  "nbformat": 4,
  "nbformat_minor": 0,
  "metadata": {
    "colab": {
      "name": "DL_ICP2.ipynb",
      "version": "0.3.2",
      "provenance": [],
      "collapsed_sections": []
    },
    "kernelspec": {
      "name": "python3",
      "display_name": "Python 3"
    }
  },
  "cells": [
    {
      "cell_type": "code",
      "metadata": {
        "id": "iXg2zINfqKzs",
        "colab_type": "code",
        "colab": {
          "base_uri": "https://localhost:8080/",
          "height": 51
        },
        "outputId": "775432ef-de35-4fd9-a661-32b8098eacba"
      },
      "source": [
        "from keras import Sequential\n",
        "from keras.datasets import mnist\n",
        "import numpy as np\n",
        "import matplotlib.pyplot as plt\n",
        "from keras.layers import Dense\n",
        "from keras.utils import to_categorical\n",
        "(train_images,train_labels),(test_images, test_labels) = mnist.load_data()"
      ],
      "execution_count": 2,
      "outputs": [
        {
          "output_type": "stream",
          "text": [
            "Downloading data from https://s3.amazonaws.com/img-datasets/mnist.npz\n",
            "11493376/11490434 [==============================] - 1s 0us/step\n"
          ],
          "name": "stdout"
        }
      ]
    },
    {
      "cell_type": "code",
      "metadata": {
        "id": "G0aVuqfdrFBD",
        "colab_type": "code",
        "colab": {}
      },
      "source": [
        "dimData = np.prod(train_images.shape[1:])\n",
        "train_data = train_images.reshape(train_images.shape[0],dimData)\n",
        "test_data = test_images.reshape(test_images.shape[0],dimData)"
      ],
      "execution_count": 0,
      "outputs": []
    },
    {
      "cell_type": "code",
      "metadata": {
        "id": "U1ToaN2xrL-7",
        "colab_type": "code",
        "colab": {}
      },
      "source": [
        "train_data = train_data.astype('float')\n",
        "test_data = test_data.astype('float')\n",
        "#scale data\n",
        "train_data /=255.0\n",
        "test_data /=255.0\n",
        "#change the labels frominteger to one-hot encoding\n",
        "train_labels_one_hot = to_categorical(train_labels)\n",
        "test_labels_one_hot = to_categorical(test_labels)"
      ],
      "execution_count": 0,
      "outputs": []
    },
    {
      "cell_type": "code",
      "metadata": {
        "id": "he7iZJaCrV0J",
        "colab_type": "code",
        "colab": {
          "base_uri": "https://localhost:8080/",
          "height": 748
        },
        "outputId": "10b0419a-e923-43ff-8130-7452db02bc35"
      },
      "source": [
        "model = Sequential()\n",
        "model.add(Dense(512, activation='relu', input_shape=(dimData,)))\n",
        "model.add(Dense(512, activation='relu'))\n",
        "model.add(Dense(10, activation='softmax'))\n",
        "\n",
        "model.compile(optimizer='rmsprop', loss='categorical_crossentropy', metrics=['accuracy'])\n",
        "history = model.fit(train_data, train_labels_one_hot, batch_size=256, epochs=20, verbose=1,\n",
        "                   validation_data=(test_data, test_labels_one_hot))\n"
      ],
      "execution_count": 39,
      "outputs": [
        {
          "output_type": "stream",
          "text": [
            "Train on 60000 samples, validate on 10000 samples\n",
            "Epoch 1/20\n",
            "60000/60000 [==============================] - 7s 122us/step - loss: 0.2758 - acc: 0.9153 - val_loss: 0.1315 - val_acc: 0.9562\n",
            "Epoch 2/20\n",
            "60000/60000 [==============================] - 7s 113us/step - loss: 0.0931 - acc: 0.9724 - val_loss: 0.1162 - val_acc: 0.9641\n",
            "Epoch 3/20\n",
            "60000/60000 [==============================] - 7s 113us/step - loss: 0.0586 - acc: 0.9818 - val_loss: 0.0898 - val_acc: 0.9721\n",
            "Epoch 4/20\n",
            "60000/60000 [==============================] - 7s 113us/step - loss: 0.0392 - acc: 0.9876 - val_loss: 0.0717 - val_acc: 0.9781\n",
            "Epoch 5/20\n",
            "60000/60000 [==============================] - 7s 113us/step - loss: 0.0286 - acc: 0.9902 - val_loss: 0.1801 - val_acc: 0.9545\n",
            "Epoch 6/20\n",
            "60000/60000 [==============================] - 7s 114us/step - loss: 0.0212 - acc: 0.9933 - val_loss: 0.0628 - val_acc: 0.9833\n",
            "Epoch 7/20\n",
            "60000/60000 [==============================] - 7s 114us/step - loss: 0.0173 - acc: 0.9946 - val_loss: 0.0730 - val_acc: 0.9802\n",
            "Epoch 8/20\n",
            "60000/60000 [==============================] - 7s 114us/step - loss: 0.0129 - acc: 0.9957 - val_loss: 0.0874 - val_acc: 0.9811\n",
            "Epoch 9/20\n",
            "60000/60000 [==============================] - 7s 114us/step - loss: 0.0117 - acc: 0.9963 - val_loss: 0.0956 - val_acc: 0.9804\n",
            "Epoch 10/20\n",
            "60000/60000 [==============================] - 7s 115us/step - loss: 0.0095 - acc: 0.9970 - val_loss: 0.1048 - val_acc: 0.9790\n",
            "Epoch 11/20\n",
            "60000/60000 [==============================] - 7s 115us/step - loss: 0.0083 - acc: 0.9974 - val_loss: 0.0924 - val_acc: 0.9819\n",
            "Epoch 12/20\n",
            "60000/60000 [==============================] - 7s 116us/step - loss: 0.0062 - acc: 0.9980 - val_loss: 0.1088 - val_acc: 0.9812\n",
            "Epoch 13/20\n",
            "60000/60000 [==============================] - 7s 115us/step - loss: 0.0076 - acc: 0.9978 - val_loss: 0.1007 - val_acc: 0.9825\n",
            "Epoch 14/20\n",
            "60000/60000 [==============================] - 7s 113us/step - loss: 0.0058 - acc: 0.9981 - val_loss: 0.1132 - val_acc: 0.9816\n",
            "Epoch 15/20\n",
            "60000/60000 [==============================] - 7s 113us/step - loss: 0.0062 - acc: 0.9982 - val_loss: 0.1173 - val_acc: 0.9807\n",
            "Epoch 16/20\n",
            "60000/60000 [==============================] - 7s 114us/step - loss: 0.0046 - acc: 0.9987 - val_loss: 0.1096 - val_acc: 0.9831\n",
            "Epoch 17/20\n",
            "60000/60000 [==============================] - 7s 114us/step - loss: 0.0059 - acc: 0.9983 - val_loss: 0.1051 - val_acc: 0.9828\n",
            "Epoch 18/20\n",
            "60000/60000 [==============================] - 7s 114us/step - loss: 0.0035 - acc: 0.9988 - val_loss: 0.1064 - val_acc: 0.9837\n",
            "Epoch 19/20\n",
            "60000/60000 [==============================] - 7s 115us/step - loss: 0.0040 - acc: 0.9990 - val_loss: 0.1389 - val_acc: 0.9801\n",
            "Epoch 20/20\n",
            "60000/60000 [==============================] - 7s 115us/step - loss: 0.0042 - acc: 0.9989 - val_loss: 0.1331 - val_acc: 0.9807\n",
            "10000/10000 [==============================] - 1s 74us/step\n",
            "Evaluation result on Test Data : Loss = 0.13314298534343302, accuracy = 0.9807\n"
          ],
          "name": "stdout"
        }
      ]
    },
    {
      "cell_type": "code",
      "metadata": {
        "id": "dWJHcJAg0hdV",
        "colab_type": "code",
        "colab": {
          "base_uri": "https://localhost:8080/",
          "height": 51
        },
        "outputId": "a69e4449-4d86-4a84-ac6a-4b8e2c8171d7"
      },
      "source": [
        "[test_loss, test_acc] = model.evaluate(test_data, test_labels_one_hot)\n",
        "print(\"Evaluation result on Test Data : Loss = {}, accuracy = {}\".format(test_loss, test_acc))"
      ],
      "execution_count": 40,
      "outputs": [
        {
          "output_type": "stream",
          "text": [
            "10000/10000 [==============================] - 1s 79us/step\n",
            "Evaluation result on Test Data : Loss = 0.13314298534343302, accuracy = 0.9807\n"
          ],
          "name": "stdout"
        }
      ]
    },
    {
      "cell_type": "markdown",
      "metadata": {
        "id": "m5GB1VlmzshJ",
        "colab_type": "text"
      },
      "source": [
        ""
      ]
    },
    {
      "cell_type": "code",
      "metadata": {
        "id": "GZBTjYmT98vS",
        "colab_type": "code",
        "colab": {
          "base_uri": "https://localhost:8080/",
          "height": 714
        },
        "outputId": "dfd118ef-a996-44ad-bceb-d0dc002b2eeb"
      },
      "source": [
        "# Model with tanh activation function\n",
        "model = Sequential()\n",
        "model.add(Dense(512, activation='relu', input_shape=(dimData,)))\n",
        "model.add(Dense(512, activation='relu'))\n",
        "model.add(Dense(512, activation='relu'))\n",
        "model.add(Dense(10, activation='tanh'))\n",
        "\n",
        "model.compile(optimizer='rmsprop', loss='categorical_crossentropy', metrics=['accuracy'])\n",
        "history = model.fit(train_data, train_labels_one_hot, batch_size=256, epochs=20, verbose=1,\n",
        "                   validation_data=(test_data, test_labels_one_hot))"
      ],
      "execution_count": 49,
      "outputs": [
        {
          "output_type": "stream",
          "text": [
            "Train on 60000 samples, validate on 10000 samples\n",
            "Epoch 1/20\n",
            "60000/60000 [==============================] - 10s 161us/step - loss: 8.1823 - acc: 0.1057 - val_loss: 8.0445 - val_acc: 0.0977\n",
            "Epoch 2/20\n",
            "60000/60000 [==============================] - 9s 152us/step - loss: 8.0048 - acc: 0.0980 - val_loss: 8.0445 - val_acc: 0.0977\n",
            "Epoch 3/20\n",
            "60000/60000 [==============================] - 9s 148us/step - loss: 8.0048 - acc: 0.0981 - val_loss: 8.0445 - val_acc: 0.0977\n",
            "Epoch 4/20\n",
            "60000/60000 [==============================] - 9s 150us/step - loss: 8.0048 - acc: 0.0980 - val_loss: 8.0445 - val_acc: 0.0977\n",
            "Epoch 5/20\n",
            "60000/60000 [==============================] - 9s 149us/step - loss: 8.0048 - acc: 0.0981 - val_loss: 8.0445 - val_acc: 0.0977\n",
            "Epoch 6/20\n",
            "60000/60000 [==============================] - 9s 149us/step - loss: 8.0048 - acc: 0.0980 - val_loss: 8.0445 - val_acc: 0.0977\n",
            "Epoch 7/20\n",
            "60000/60000 [==============================] - 9s 148us/step - loss: 8.0048 - acc: 0.0980 - val_loss: 8.0445 - val_acc: 0.0977\n",
            "Epoch 8/20\n",
            "60000/60000 [==============================] - 9s 147us/step - loss: 8.0048 - acc: 0.0981 - val_loss: 8.0445 - val_acc: 0.0977\n",
            "Epoch 9/20\n",
            "60000/60000 [==============================] - 9s 148us/step - loss: 8.0048 - acc: 0.0980 - val_loss: 8.0445 - val_acc: 0.0977\n",
            "Epoch 10/20\n",
            "60000/60000 [==============================] - 9s 149us/step - loss: 8.0048 - acc: 0.0980 - val_loss: 8.0445 - val_acc: 0.0977\n",
            "Epoch 11/20\n",
            "60000/60000 [==============================] - 9s 148us/step - loss: 8.0048 - acc: 0.0980 - val_loss: 8.0445 - val_acc: 0.0977\n",
            "Epoch 12/20\n",
            "60000/60000 [==============================] - 9s 149us/step - loss: 8.0048 - acc: 0.0980 - val_loss: 8.0445 - val_acc: 0.0977\n",
            "Epoch 13/20\n",
            "60000/60000 [==============================] - 9s 149us/step - loss: 8.0048 - acc: 0.0980 - val_loss: 8.0445 - val_acc: 0.0977\n",
            "Epoch 14/20\n",
            "60000/60000 [==============================] - 9s 149us/step - loss: 8.0048 - acc: 0.0980 - val_loss: 8.0445 - val_acc: 0.0977\n",
            "Epoch 15/20\n",
            "60000/60000 [==============================] - 9s 150us/step - loss: 8.0048 - acc: 0.0980 - val_loss: 8.0445 - val_acc: 0.0977\n",
            "Epoch 16/20\n",
            "60000/60000 [==============================] - 9s 150us/step - loss: 8.0048 - acc: 0.0981 - val_loss: 8.0445 - val_acc: 0.0977\n",
            "Epoch 17/20\n",
            "60000/60000 [==============================] - 9s 151us/step - loss: 8.0048 - acc: 0.0981 - val_loss: 8.0445 - val_acc: 0.0977\n",
            "Epoch 18/20\n",
            "60000/60000 [==============================] - 9s 151us/step - loss: 8.0048 - acc: 0.0981 - val_loss: 8.0445 - val_acc: 0.0977\n",
            "Epoch 19/20\n",
            "60000/60000 [==============================] - 9s 151us/step - loss: 8.0048 - acc: 0.0981 - val_loss: 8.0445 - val_acc: 0.0977\n",
            "Epoch 20/20\n",
            "60000/60000 [==============================] - 9s 151us/step - loss: 8.0048 - acc: 0.0980 - val_loss: 8.0445 - val_acc: 0.0977\n"
          ],
          "name": "stdout"
        }
      ]
    },
    {
      "cell_type": "code",
      "metadata": {
        "id": "V7i2IWrPdTxf",
        "colab_type": "code",
        "colab": {
          "base_uri": "https://localhost:8080/",
          "height": 51
        },
        "outputId": "fa075b79-0297-4ba3-f275-0386232fd71e"
      },
      "source": [
        "\n",
        "[test_loss, test_acc] = model.evaluate(test_data, test_labels_one_hot)\n",
        "print(\"Evaluation result on Test Data : Loss = {}, accuracy = {}\".format(test_loss, test_acc))"
      ],
      "execution_count": 50,
      "outputs": [
        {
          "output_type": "stream",
          "text": [
            "10000/10000 [==============================] - 1s 102us/step\n",
            "Evaluation result on Test Data : Loss = 8.04454148864746, accuracy = 0.0977\n"
          ],
          "name": "stdout"
        }
      ]
    },
    {
      "cell_type": "code",
      "metadata": {
        "id": "CwKMa5CjP9KB",
        "colab_type": "code",
        "colab": {
          "base_uri": "https://localhost:8080/",
          "height": 714
        },
        "outputId": "ced93a40-5ef5-4134-c110-aad2303cbb23"
      },
      "source": [
        "# Model with sigmoid activation function\n",
        "model = Sequential()\n",
        "model.add(Dense(512, activation='relu', input_shape=(dimData,)))\n",
        "model.add(Dense(512, activation='relu'))\n",
        "model.add(Dense(512, activation='relu'))\n",
        "model.add(Dense(10, activation='sigmoid'))\n",
        "\n",
        "model.compile(optimizer='rmsprop', loss='categorical_crossentropy', metrics=['accuracy'])\n",
        "history = model.fit(train_data, train_labels_one_hot, batch_size=256, epochs=20, verbose=1,\n",
        "                   validation_data=(test_data, test_labels_one_hot))"
      ],
      "execution_count": 51,
      "outputs": [
        {
          "output_type": "stream",
          "text": [
            "Train on 60000 samples, validate on 10000 samples\n",
            "Epoch 1/20\n",
            "60000/60000 [==============================] - 10s 168us/step - loss: 0.3295 - acc: 0.8961 - val_loss: 0.1248 - val_acc: 0.9616\n",
            "Epoch 2/20\n",
            "60000/60000 [==============================] - 9s 151us/step - loss: 0.1033 - acc: 0.9681 - val_loss: 0.1453 - val_acc: 0.9555\n",
            "Epoch 3/20\n",
            "60000/60000 [==============================] - 9s 151us/step - loss: 0.0670 - acc: 0.9796 - val_loss: 0.0831 - val_acc: 0.9772\n",
            "Epoch 4/20\n",
            "60000/60000 [==============================] - 9s 151us/step - loss: 0.0456 - acc: 0.9855 - val_loss: 0.0857 - val_acc: 0.9784\n",
            "Epoch 5/20\n",
            "60000/60000 [==============================] - 9s 151us/step - loss: 0.0345 - acc: 0.9893 - val_loss: 0.1032 - val_acc: 0.9727\n",
            "Epoch 6/20\n",
            "60000/60000 [==============================] - 9s 154us/step - loss: 0.0281 - acc: 0.9912 - val_loss: 0.0979 - val_acc: 0.9785\n",
            "Epoch 7/20\n",
            "60000/60000 [==============================] - 9s 153us/step - loss: 0.0236 - acc: 0.9933 - val_loss: 0.0993 - val_acc: 0.9794\n",
            "Epoch 8/20\n",
            "60000/60000 [==============================] - 9s 154us/step - loss: nan - acc: 0.1944 - val_loss: nan - val_acc: 0.0980\n",
            "Epoch 9/20\n",
            "60000/60000 [==============================] - 9s 152us/step - loss: nan - acc: 0.0987 - val_loss: nan - val_acc: 0.0980\n",
            "Epoch 10/20\n",
            "60000/60000 [==============================] - 9s 152us/step - loss: nan - acc: 0.0987 - val_loss: nan - val_acc: 0.0980\n",
            "Epoch 11/20\n",
            "60000/60000 [==============================] - 9s 153us/step - loss: nan - acc: 0.0987 - val_loss: nan - val_acc: 0.0980\n",
            "Epoch 12/20\n",
            "60000/60000 [==============================] - 9s 153us/step - loss: nan - acc: 0.0987 - val_loss: nan - val_acc: 0.0980\n",
            "Epoch 13/20\n",
            "60000/60000 [==============================] - 9s 152us/step - loss: nan - acc: 0.0987 - val_loss: nan - val_acc: 0.0980\n",
            "Epoch 14/20\n",
            "60000/60000 [==============================] - 9s 151us/step - loss: nan - acc: 0.0987 - val_loss: nan - val_acc: 0.0980\n",
            "Epoch 15/20\n",
            "60000/60000 [==============================] - 9s 151us/step - loss: nan - acc: 0.0987 - val_loss: nan - val_acc: 0.0980\n",
            "Epoch 16/20\n",
            "60000/60000 [==============================] - 9s 150us/step - loss: nan - acc: 0.0987 - val_loss: nan - val_acc: 0.0980\n",
            "Epoch 17/20\n",
            "60000/60000 [==============================] - 9s 151us/step - loss: nan - acc: 0.0987 - val_loss: nan - val_acc: 0.0980\n",
            "Epoch 18/20\n",
            "60000/60000 [==============================] - 9s 152us/step - loss: nan - acc: 0.0987 - val_loss: nan - val_acc: 0.0980\n",
            "Epoch 19/20\n",
            "60000/60000 [==============================] - 9s 152us/step - loss: nan - acc: 0.0987 - val_loss: nan - val_acc: 0.0980\n",
            "Epoch 20/20\n",
            "60000/60000 [==============================] - 9s 153us/step - loss: nan - acc: 0.0987 - val_loss: nan - val_acc: 0.0980\n"
          ],
          "name": "stdout"
        }
      ]
    },
    {
      "cell_type": "code",
      "metadata": {
        "id": "3m0P-rresU7f",
        "colab_type": "code",
        "colab": {
          "base_uri": "https://localhost:8080/",
          "height": 51
        },
        "outputId": "22be1fc0-7055-46d9-c7e9-293e092a231c"
      },
      "source": [
        "[test_loss, test_acc] = model.evaluate(test_data, test_labels_one_hot)\n",
        "print(\"Evaluation result on Test Data : Loss = {}, accuracy = {}\".format(test_loss, test_acc))"
      ],
      "execution_count": 52,
      "outputs": [
        {
          "output_type": "stream",
          "text": [
            "10000/10000 [==============================] - 1s 133us/step\n",
            "Evaluation result on Test Data : Loss = nan, accuracy = 0.098\n"
          ],
          "name": "stdout"
        }
      ]
    },
    {
      "cell_type": "code",
      "metadata": {
        "id": "HGcZ1AhnsL5J",
        "colab_type": "code",
        "colab": {
          "base_uri": "https://localhost:8080/",
          "height": 295
        },
        "outputId": "c0160199-9731-4e0f-9dbc-e9002750bef9"
      },
      "source": [
        "# Accuracy plot for train and validation datasets\n",
        "plt.plot(history.history['acc'])\n",
        "plt.plot(history.history['val_acc'])\n",
        "plt.title('model accuracy')\n",
        "plt.ylabel('accuracy')\n",
        "plt.xlabel('epoch')\n",
        "plt.legend(['train', 'val'], loc='upper left')\n",
        "plt.show() "
      ],
      "execution_count": 42,
      "outputs": [
        {
          "output_type": "display_data",
          "data": {
            "image/png": "[encoded data removed]",
            "text/plain": [
              "<Figure size 432x288 with 1 Axes>"
            ]
          },
          "metadata": {
            "tags": []
          }
        }
      ]
    },
    {
      "cell_type": "code",
      "metadata": {
        "id": "J-dMeelF1p12",
        "colab_type": "code",
        "colab": {
          "base_uri": "https://localhost:8080/",
          "height": 295
        },
        "outputId": "25fffcf0-7022-45aa-df8b-20d8b07a6491"
      },
      "source": [
        "# Loss plot for train and validation datasets\n",
        "plt.plot(history.history['loss'])\n",
        "plt.plot(history.history['val_loss'])\n",
        "plt.title('model loss')\n",
        "plt.ylabel('loss')\n",
        "plt.xlabel('epoch')\n",
        "plt.legend(['train', 'val'], loc='upper left')\n",
        "plt.show()"
      ],
      "execution_count": 43,
      "outputs": [
        {
          "output_type": "display_data",
          "data": {
            "image/png": "[encoded data removed]",
            "text/plain": [
              "<Figure size 432x288 with 1 Axes>"
            ]
          },
          "metadata": {
            "tags": []
          }
        }
      ]
    },
    {
      "cell_type": "code",
      "metadata": {
        "id": "znPFa74F2oAp",
        "colab_type": "code",
        "colab": {
          "base_uri": "https://localhost:8080/",
          "height": 285
        },
        "outputId": "3d637926-1b53-41f8-a121-0d64a7a01a65"
      },
      "source": [
        "plt.imshow(test_images[0] )\n",
        "plt.title(\" Digit \" + str(test_labels[0]) )\n",
        "plt.xticks([])\n",
        "plt.yticks([])\n",
        "\n"
      ],
      "execution_count": 17,
      "outputs": [
        {
          "output_type": "execute_result",
          "data": {
            "text/plain": [
              "([], <a list of 0 Text yticklabel objects>)"
            ]
          },
          "metadata": {
            "tags": []
          },
          "execution_count": 17
        },
        {
          "output_type": "display_data",
          "data": {
            "image/png": "[encoded data removed]",
            "text/plain": [
              "<Figure size 432x288 with 1 Axes>"
            ]
          },
          "metadata": {
            "tags": []
          }
        }
      ]
    }
  ]
}